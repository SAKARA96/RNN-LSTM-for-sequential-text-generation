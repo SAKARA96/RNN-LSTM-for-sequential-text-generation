{
 "cells": [
  {
   "cell_type": "code",
   "execution_count": 1,
   "metadata": {},
   "outputs": [],
   "source": [
    "from lib.rnn import *\n",
    "from lib.layer_utils import *\n",
    "from lib.grad_check import *\n",
    "from lib.optim import *\n",
    "from lib.train import *\n",
    "import numpy as np\n",
    "import matplotlib.pyplot as plt\n",
    "\n",
    "%matplotlib inline\n",
    "plt.rcParams['figure.figsize'] = (10.0, 8.0)\n",
    "plt.rcParams['image.interpolation'] = 'nearest'\n",
    "plt.rcParams['image.cmap'] = 'gray'\n",
    "\n",
    "%load_ext autoreload\n",
    "%autoreload 2"
   ]
  },
  {
   "cell_type": "code",
   "execution_count": 11,
   "metadata": {},
   "outputs": [
    {
     "name": "stdout",
     "output_type": "stream",
     "text": [
      "vanilla_rnn_b relative error: 9.451394e-08\n",
      "vanilla_rnn_wh relative error: 3.221744e-08\n",
      "vanilla_rnn_wx relative error: 9.508480e-08\n"
     ]
    }
   ],
   "source": [
    "%reload_ext autoreload\n",
    "\n",
    "np.random.seed(231)\n",
    "\n",
    "batch_size = 2\n",
    "timesteps = 3\n",
    "input_dim = 4\n",
    "hidden_dim = 6\n",
    "label_size = 4\n",
    "\n",
    "labels = np.random.randint(label_size, size=(batch_size, timesteps))\n",
    "features = np.random.randn(batch_size, timesteps, input_dim)\n",
    "h0 = np.random.randn(batch_size, hidden_dim)\n",
    "\n",
    "model = TestRNN(input_dim, hidden_dim, cell_type='rnn')\n",
    "loss_func = temporal_softmax_CE_loss()\n",
    "\n",
    "pred = model.forward(features, h0)\n",
    "\n",
    "# You'll need this\n",
    "mask = np.ones((batch_size, timesteps))\n",
    "\n",
    "loss = loss_func.forward(pred, labels, mask)\n",
    "dLoss = loss_func.backward()\n",
    "\n",
    "dout, dh0 = model.backward(dLoss)\n",
    "\n",
    "grads = model.grads\n",
    "\n",
    "for param_name in sorted(grads):\n",
    "    f = lambda _: loss_func.forward(model.forward(features, h0), labels, mask)\n",
    "    param_grad_num = eval_numerical_gradient(f, model.params[param_name], verbose=False, h=1e-6)\n",
    "    e = rel_error(param_grad_num, grads[param_name])\n",
    "    print('%s relative error: %e' % (param_name, e))"
   ]
  },
  {
   "cell_type": "code",
   "execution_count": 16,
   "metadata": {},
   "outputs": [
    {
     "name": "stdout",
     "output_type": "stream",
     "text": [
      "loss:  49.21402563544293\n",
      "expected loss:  49.2140256354\n",
      "difference:  4.293099209462525e-11\n"
     ]
    }
   ],
   "source": [
    "%reload_ext autoreload\n",
    "\n",
    "N, D, H = 10, 20, 40\n",
    "V = 4\n",
    "T = 13\n",
    "\n",
    "model = TestRNN(D, H, cell_type='lstm')\n",
    "loss_func = temporal_softmax_CE_loss()\n",
    "\n",
    "for k, v in model.params.items():\n",
    "    model.params[k] = np.linspace(-1.4, 1.3, num=v.size).reshape(*v.shape)\n",
    "model.assign_params()\n",
    "\n",
    "features = np.linspace(-1.5, 0.3, num=(N * D * T)).reshape(N, T, D)\n",
    "h0 = np.linspace(-1.5, 0.5, num=(N*H)).reshape(N, H)\n",
    "labels = (np.arange(N * T) % V).reshape(N, T)\n",
    "\n",
    "pred = model.forward(features, h0)\n",
    "\n",
    "mask = np.ones((N, T))\n",
    "\n",
    "loss = loss_func.forward(pred, labels, mask)\n",
    "dLoss = loss_func.backward()\n",
    "\n",
    "expected_loss = 49.2140256354\n",
    "\n",
    "print('loss: ', loss)\n",
    "print('expected loss: ', expected_loss)\n",
    "print('difference: ', abs(loss - expected_loss))"
   ]
  },
  {
   "cell_type": "code",
   "execution_count": 17,
   "metadata": {},
   "outputs": [],
   "source": [
    "%reload_ext autoreload\n",
    "\n",
    "input_file = open(\"data/alice.txt\", \"r\" ,encoding=\"utf8\")\n",
    "input_text = input_file.readlines()\n",
    "input_text = ''.join(input_text)"
   ]
  },
  {
   "cell_type": "code",
   "execution_count": 18,
   "metadata": {},
   "outputs": [
    {
     "name": "stdout",
     "output_type": "stream",
     "text": [
      "Input text size: 2170\n",
      "Input word number: 778\n"
     ]
    }
   ],
   "source": [
    "%reload_ext autoreload\n",
    "\n",
    "import re\n",
    "\n",
    "text = re.split(' |\\n',input_text.lower())  # all words are converted into lower case\n",
    "outputSize = len(text)\n",
    "word_list = list(set(text))\n",
    "dataSize = len(word_list)\n",
    "output = np.zeros(outputSize)\n",
    "for i in range(0, outputSize):\n",
    "    index = np.where(np.asarray(word_list) == text[i])\n",
    "    output[i] = index[0]\n",
    "data = output.astype(np.int)\n",
    "gt_labels = data[1:]\n",
    "input_data = data[:-1]\n",
    "\n",
    "print('Input text size: %s' % outputSize)\n",
    "print('Input word number: %s' % dataSize)"
   ]
  },
  {
   "cell_type": "code",
   "execution_count": 21,
   "metadata": {
    "scrolled": false
   },
   "outputs": [
    {
     "name": "stdout",
     "output_type": "stream",
     "text": [
      "(Iteration 1 / 10800) loss: 99.83724862791347\n",
      "best performance 3.503918856615952%\n",
      "(Epoch 1 / 50) Training Accuracy: 0.03503918856615952\n",
      "best performance 6.131857999077916%\n",
      "(Epoch 2 / 50) Training Accuracy: 0.06131857999077916\n",
      "(Iteration 501 / 10800) loss: 81.20808764144581\n",
      "best performance 6.8234209313047485%\n",
      "(Epoch 3 / 50) Training Accuracy: 0.06823420931304748\n",
      "best performance 7.699400645458737%\n",
      "(Epoch 4 / 50) Training Accuracy: 0.07699400645458737\n",
      "(Iteration 1001 / 10800) loss: 70.96744336632172\n",
      "best performance 10.650069156293222%\n",
      "(Epoch 5 / 50) Training Accuracy: 0.10650069156293222\n",
      "best performance 12.586445366528354%\n",
      "(Epoch 6 / 50) Training Accuracy: 0.12586445366528354\n",
      "(Iteration 1501 / 10800) loss: 64.28956507096304\n",
      "best performance 15.952051636698938%\n",
      "(Epoch 7 / 50) Training Accuracy: 0.15952051636698938\n",
      "best performance 19.13324112494237%\n",
      "(Epoch 8 / 50) Training Accuracy: 0.19133241124942368\n",
      "best performance 21.761180267404335%\n",
      "(Epoch 9 / 50) Training Accuracy: 0.21761180267404334\n",
      "(Iteration 2001 / 10800) loss: 54.08959557651902\n",
      "best performance 25.587828492392806%\n",
      "(Epoch 10 / 50) Training Accuracy: 0.25587828492392806\n",
      "best performance 28.53849700322729%\n",
      "(Epoch 11 / 50) Training Accuracy: 0.2853849700322729\n",
      "(Iteration 2501 / 10800) loss: 46.66175087170875\n",
      "best performance 33.28722913785154%\n",
      "(Epoch 12 / 50) Training Accuracy: 0.33287229137851543\n",
      "best performance 36.7911479944675%\n",
      "(Epoch 13 / 50) Training Accuracy: 0.367911479944675\n",
      "(Iteration 3001 / 10800) loss: 42.44061110378405\n",
      "best performance 40.387275242047025%\n",
      "(Epoch 14 / 50) Training Accuracy: 0.40387275242047027\n",
      "best performance 44.16781927155371%\n",
      "(Epoch 15 / 50) Training Accuracy: 0.4416781927155371\n",
      "best performance 46.10419548178884%\n",
      "(Epoch 16 / 50) Training Accuracy: 0.46104195481788846\n",
      "(Iteration 3501 / 10800) loss: 38.80215880399068\n",
      "best performance 49.37759336099585%\n",
      "(Epoch 17 / 50) Training Accuracy: 0.49377593360995853\n",
      "best performance 51.17565698478561%\n",
      "(Epoch 18 / 50) Training Accuracy: 0.5117565698478561\n",
      "(Iteration 4001 / 10800) loss: 33.980299814941304\n",
      "best performance 54.21853388658368%\n",
      "(Epoch 19 / 50) Training Accuracy: 0.5421853388658368\n",
      "best performance 56.293222683264176%\n",
      "(Epoch 20 / 50) Training Accuracy: 0.5629322268326418\n",
      "(Iteration 4501 / 10800) loss: 31.988527682632775\n",
      "best performance 58.6906408483172%\n",
      "(Epoch 21 / 50) Training Accuracy: 0.586906408483172\n",
      "best performance 60.90364223144306%\n",
      "(Epoch 22 / 50) Training Accuracy: 0.6090364223144306\n",
      "best performance 63.2088520055325%\n",
      "(Epoch 23 / 50) Training Accuracy: 0.632088520055325\n",
      "(Iteration 5001 / 10800) loss: 29.042076239845397\n",
      "best performance 65.283540802213%\n",
      "(Epoch 24 / 50) Training Accuracy: 0.65283540802213\n",
      "best performance 66.85108344859381%\n",
      "(Epoch 25 / 50) Training Accuracy: 0.6685108344859382\n",
      "(Iteration 5501 / 10800) loss: 28.600008852482716\n",
      "best performance 68.46473029045643%\n",
      "(Epoch 26 / 50) Training Accuracy: 0.6846473029045643\n",
      "best performance 69.75564776394651%\n",
      "(Epoch 27 / 50) Training Accuracy: 0.6975564776394652\n",
      "(Iteration 6001 / 10800) loss: 23.10670612479292\n",
      "best performance 71.5076071922545%\n",
      "(Epoch 28 / 50) Training Accuracy: 0.715076071922545\n",
      "best performance 72.56800368833564%\n",
      "(Epoch 29 / 50) Training Accuracy: 0.7256800368833564\n",
      "best performance 74.04333794375289%\n",
      "(Epoch 30 / 50) Training Accuracy: 0.7404333794375288\n",
      "(Iteration 6501 / 10800) loss: 19.13526056698754\n",
      "best performance 75.33425541724297%\n",
      "(Epoch 31 / 50) Training Accuracy: 0.7533425541724297\n",
      "best performance 76.11802674043338%\n",
      "(Epoch 32 / 50) Training Accuracy: 0.7611802674043338\n",
      "(Iteration 7001 / 10800) loss: 18.958076591905392\n",
      "best performance 76.80958967266022%\n",
      "(Epoch 33 / 50) Training Accuracy: 0.7680958967266022\n",
      "best performance 77.54725680036884%\n",
      "(Epoch 34 / 50) Training Accuracy: 0.7754725680036884\n",
      "(Iteration 7501 / 10800) loss: 21.26233729481939\n",
      "best performance 78.9303826648225%\n",
      "(Epoch 35 / 50) Training Accuracy: 0.789303826648225\n",
      "best performance 80.1751959428308%\n",
      "(Epoch 36 / 50) Training Accuracy: 0.801751959428308\n",
      "best performance 80.68234209313047%\n",
      "(Epoch 37 / 50) Training Accuracy: 0.8068234209313048\n",
      "(Iteration 8001 / 10800) loss: 20.809728459360137\n",
      "best performance 82.2037805440295%\n",
      "(Epoch 38 / 50) Training Accuracy: 0.822037805440295\n",
      "best performance 82.89534347625634%\n",
      "(Epoch 39 / 50) Training Accuracy: 0.8289534347625634\n",
      "(Iteration 8501 / 10800) loss: 15.8808157056548\n",
      "best performance 84.32457353619179%\n",
      "(Epoch 40 / 50) Training Accuracy: 0.8432457353619179\n",
      "best performance 85.06224066390041%\n",
      "(Epoch 41 / 50) Training Accuracy: 0.8506224066390041\n",
      "(Iteration 9001 / 10800) loss: 16.49808443764174\n",
      "best performance 85.93822037805441%\n",
      "(Epoch 42 / 50) Training Accuracy: 0.8593822037805441\n",
      "best performance 86.3992623328723%\n",
      "(Epoch 43 / 50) Training Accuracy: 0.863992623328723\n",
      "(Iteration 9501 / 10800) loss: 14.841869011729518\n",
      "best performance 86.99861687413555%\n",
      "(Epoch 44 / 50) Training Accuracy: 0.8699861687413555\n",
      "best performance 88.10511756569848%\n",
      "(Epoch 45 / 50) Training Accuracy: 0.8810511756569848\n",
      "best performance 88.38174273858921%\n",
      "(Epoch 46 / 50) Training Accuracy: 0.8838174273858921\n",
      "(Iteration 10001 / 10800) loss: 14.505189138813066\n",
      "best performance 88.75057630244352%\n",
      "(Epoch 47 / 50) Training Accuracy: 0.8875057630244352\n",
      "best performance 89.62655601659752%\n",
      "(Epoch 48 / 50) Training Accuracy: 0.8962655601659751\n",
      "(Iteration 10501 / 10800) loss: 12.844043179878838\n",
      "best performance 90.5025357307515%\n",
      "(Epoch 49 / 50) Training Accuracy: 0.905025357307515\n",
      "(Epoch 50 / 50) Training Accuracy: 0.905025357307515\n"
     ]
    }
   ],
   "source": [
    "%reload_ext autoreload\n",
    "\n",
    "D = 10  # input dimension\n",
    "H = 35  # hidden space dimension\n",
    "T = 15  # timesteps\n",
    "N = 10  # batch size\n",
    "max_epoch = 50  # max epoch size\n",
    "\n",
    "loss_func = temporal_softmax_CE_loss()\n",
    "# you can change the cell_type between 'rnn' and 'lstm'.\n",
    "model = LanguageModelRNN(dataSize, D, H, cell_type='rnn')\n",
    "optimizer = Adam(model, 5e-4)\n",
    "\n",
    "data = {'data_train': input_data, 'labels_train': gt_labels}\n",
    "\n",
    "results = train_net(data, model, loss_func, optimizer, timesteps=T, batch_size=N, max_epochs=max_epoch, verbose=True)"
   ]
  },
  {
   "cell_type": "markdown",
   "metadata": {},
   "source": [
    "Simply run the following code block to check the loss and accuracy curve. (We expect training accuracy to be >80%, you can change all parameters above except `T` to try to improve your training performance. The higher your performance, the better your text samples below will get.)"
   ]
  },
  {
   "cell_type": "code",
   "execution_count": 22,
   "metadata": {},
   "outputs": [
    {
     "data": {
      "image/png": "[encoded data removed]",
      "text/plain": [
       "<Figure size 1080x864 with 2 Axes>"
      ]
     },
     "metadata": {
      "needs_background": "light"
     },
     "output_type": "display_data"
    }
   ],
   "source": [
    "%reload_ext autoreload\n",
    "\n",
    "opt_params, loss_hist, train_acc_hist = results\n",
    "\n",
    "# Plot the learning curves\n",
    "plt.subplot(2, 1, 1)\n",
    "plt.title('Training loss')\n",
    "loss_hist_ = loss_hist[1::100]  # sparse the curve a bit\n",
    "plt.plot(loss_hist_, '-o')\n",
    "plt.xlabel('Iteration')\n",
    "\n",
    "plt.subplot(2, 1, 2)\n",
    "plt.title('Accuracy')\n",
    "plt.plot(train_acc_hist, '-o', label='Training')\n",
    "plt.xlabel('Epoch')\n",
    "plt.legend(loc='lower right')\n",
    "plt.gcf().set_size_inches(15, 12)\n",
    "\n",
    "plt.show()"
   ]
  },
  {
   "cell_type": "markdown",
   "metadata": {},
   "source": [
    "Now you can generate text using the trained model. You can start from a specific word in the original text, such as `she`. (We expect the text to not be too repetitive, i.e. not repeating the same three words over and over. See an example of an acceptable sample below.)\n",
    "\n",
    "> she was dozing off, and book-shelves; here and she tried to curtsey as she spoke--fancy curtseying as you’re falling through the little door into a dreamy sort of way, ‘do cats eat bats? do cats eat bats?’ and sometimes,"
   ]
  },
  {
   "cell_type": "code",
   "execution_count": 23,
   "metadata": {},
   "outputs": [
    {
     "name": "stdout",
     "output_type": "stream",
     "text": [
      "she was now only ten inches high, and she jumped up on to her feet in a moment: she found herself falling down a very deep well.  either the well was very deep, or thought another moment down went\n"
     ]
    }
   ],
   "source": [
    "%reload_ext autoreload\n",
    "\n",
    "# you can change the generated text length below.\n",
    "text_length = 40\n",
    "\n",
    "idx = 0\n",
    "# you also can start from specific word. \n",
    "# since the words are all converted into lower case\n",
    "idx = int(np.where(np.asarray(word_list) == 'She'.lower())[0])\n",
    "\n",
    "# sample from the trained model\n",
    "words = model.sample(idx, text_length-1)\n",
    "\n",
    "# convert indices into words\n",
    "output = [word_list[i] for i in words]\n",
    "print(' '.join(output))"
   ]
  }
 ],
 "metadata": {
  "kernelspec": {
   "display_name": "py3.6",
   "language": "python",
   "name": "py3.6"
  },
  "language_info": {
   "codemirror_mode": {
    "name": "ipython",
    "version": 3
   },
   "file_extension": ".py",
   "mimetype": "text/x-python",
   "name": "python",
   "nbconvert_exporter": "python",
   "pygments_lexer": "ipython3",
   "version": "3.6.8"
  }
 },
 "nbformat": 4,
 "nbformat_minor": 1
}
